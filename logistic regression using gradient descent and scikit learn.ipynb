{
 "cells": [
  {
   "cell_type": "code",
   "execution_count": 1,
   "id": "4d5916af",
   "metadata": {},
   "outputs": [],
   "source": [
    "import matplotlib.pyplot as plt\n",
    "import numpy as np\n",
    "import pandas as pd\n",
    "import math,copy\n",
    "from sklearn import linear_model"
   ]
  },
  {
   "cell_type": "code",
   "execution_count": 2,
   "id": "9611ce74",
   "metadata": {},
   "outputs": [],
   "source": [
    "#X represents the contains exam scores on two exams for a student\n",
    "X_train =np.array([[34.62365962, 78.02469282],\n",
    " [30.28671077, 43.89499752],\n",
    " [35.84740877, 72.90219803],\n",
    " [60.18259939, 86.3085521 ],\n",
    " [79.03273605, 75.34437644]])\n",
    "#y is the admition decision (0 for \"No\", 1 for \"Yes\").\n",
    "y_train=np.array([0.,0.,0., 1., 1.])"
   ]
  },
  {
   "cell_type": "code",
   "execution_count": 57,
   "id": "0661de22",
   "metadata": {
    "scrolled": true
   },
   "outputs": [
    {
     "name": "stdout",
     "output_type": "stream",
     "text": [
      "shape osf X_train is : (5, 2)\n",
      "shape osf y_train is : (5,)\n"
     ]
    }
   ],
   "source": [
    "print(\"shape osf X_train is : \" + str(X_train.shape))\n",
    "print(\"shape osf y_train is : \" + str(y_train.shape))"
   ]
  },
  {
   "cell_type": "code",
   "execution_count": 4,
   "id": "ac1e80f5",
   "metadata": {},
   "outputs": [
    {
     "data": {
      "text/plain": [
       "<matplotlib.collections.PathCollection at 0x18f9df82b90>"
      ]
     },
     "execution_count": 4,
     "metadata": {},
     "output_type": "execute_result"
    },
    {
     "data": {
      "image/png": "[encoded data removed]",
      "text/plain": [
       "<Figure size 640x480 with 1 Axes>"
      ]
     },
     "metadata": {},
     "output_type": "display_data"
    }
   ],
   "source": [
    "colors = np.array(['blue','blue','blue','red','red'])\n",
    "plt.scatter(X_train[:,0],X_train[:,1], c= colors)"
   ]
  },
  {
   "cell_type": "code",
   "execution_count": 5,
   "id": "5edc2b47",
   "metadata": {},
   "outputs": [],
   "source": [
    "# for logistic function,the model is expressed as \n",
    "\"\"\"\n",
    " y_predict =  g(w.x + b)\n",
    " where the function g is sigmoid function defined as \n",
    " g(z) = 1/(1+np.exp(-z))\n",
    " and w and b are parametres of the model\n",
    "\"\"\"\n",
    "# sigmoid function \n",
    "\n",
    "def sigmoid(z):\n",
    "    g = 1/(1+np.exp(-z))\n",
    "    return g"
   ]
  },
  {
   "cell_type": "code",
   "execution_count": 7,
   "id": "5d1a871b",
   "metadata": {},
   "outputs": [],
   "source": [
    "# compute the cost for logistic regression\n",
    "\n",
    "def compute_cost(x,y,w,b):\n",
    "    m,n = x.shape\n",
    "    cost = 0\n",
    "    for i in range(m):\n",
    "        z_i = np.dot(x[i],w )+ b\n",
    "        f_wb_i = sigmoid(z_i)\n",
    "        cost += -y[i]*np.log(f_wb_i)-(1-y[i])*np.log(1-f_wb_i)\n",
    "    total_cost = cost / m \n",
    "    return total_cost"
   ]
  },
  {
   "cell_type": "code",
   "execution_count": 8,
   "id": "40fe991e",
   "metadata": {},
   "outputs": [],
   "source": [
    "#gradient for logistic regression\n",
    "\n",
    "def compute_gradient(x,y,w,b):\n",
    "    m,n = x.shape\n",
    "    dj_dw = np.zeros(n)\n",
    "    dj_db = 0\n",
    "    for i in range(m):\n",
    "        z_wb = 0\n",
    "        for j in range(n):\n",
    "            z_wb += x[i,j] * w[j]\n",
    "        z_wb += b\n",
    "        f_wb =  sigmoid(z_wb)\n",
    "        err_i = f_wb - y[i]\n",
    "        dj_db_i = err_i\n",
    "        dj_db += dj_db_i\n",
    "        \n",
    "        for j in range(n):\n",
    "            dj_dw[j] = dj_dw[j] + err_i * x[i,j]\n",
    "    dj_dw = dj_dw / m\n",
    "    dj_db = dj_db / m\n",
    "    return dj_dw,dj_db"
   ]
  },
  {
   "cell_type": "code",
   "execution_count": 15,
   "id": "7bc86461",
   "metadata": {},
   "outputs": [],
   "source": [
    "# gradient descent to optimize w and b which minimizes the cost with learning rate alpha \n",
    "\n",
    "def gradient_descent(x,y,w,b,cost_function,gradient_function,alpha,num_iters):\n",
    "    m =x.shape[0]\n",
    "    j_history = []\n",
    "    w_history = []\n",
    "    b_history = []\n",
    "    for i in range(num_iters):\n",
    "        dj_dw,dj_db = gradient_function(x,y,w,b)\n",
    "        # update parameters\n",
    "        w = w - alpha*dj_dw\n",
    "        b = b - alpha*dj_db\n",
    "        j_history.append(cost_function(x,y,w,b))\n",
    "        w_history.append(w)\n",
    "        b_history.append(b)\n",
    "    return w,b,j_history,w_history,b_history"
   ]
  },
  {
   "cell_type": "code",
   "execution_count": 49,
   "id": "0f0e21b6",
   "metadata": {},
   "outputs": [
    {
     "name": "stderr",
     "output_type": "stream",
     "text": [
      "C:\\Users\\Hiwot\\AppData\\Local\\Temp\\ipykernel_11964\\1652647944.py:9: RuntimeWarning: divide by zero encountered in log\n",
      "  cost += -y[i]*np.log(f_wb_i)-(1-y[i])*np.log(1-f_wb_i)\n",
      "C:\\Users\\Hiwot\\AppData\\Local\\Temp\\ipykernel_11964\\1652647944.py:9: RuntimeWarning: invalid value encountered in scalar multiply\n",
      "  cost += -y[i]*np.log(f_wb_i)-(1-y[i])*np.log(1-f_wb_i)\n"
     ]
    }
   ],
   "source": [
    "alpha = 0.06\n",
    "iterations = 10000\n",
    "w_in = np.array([0.,0.])\n",
    "b_in = 0\n",
    "w,b,j_history,w_history, b_history= gradient_descent(X_train,y_train,w_in,b_in,compute_cost,compute_gradient,alpha,iterations)"
   ]
  },
  {
   "cell_type": "code",
   "execution_count": 50,
   "id": "b21b436a",
   "metadata": {
    "scrolled": true
   },
   "outputs": [
    {
     "name": "stdout",
     "output_type": "stream",
     "text": [
      "the parameter w is:, [ 22.79811717 -14.76424572] and b is: -38.93994609940567\n"
     ]
    }
   ],
   "source": [
    "print(f\"the parameter w is:, {w} and b is: {b}\")"
   ]
  },
  {
   "cell_type": "code",
   "execution_count": 51,
   "id": "1c3eb3fb",
   "metadata": {},
   "outputs": [
    {
     "name": "stdout",
     "output_type": "stream",
     "text": [
      "[False  True False  True  True]\n"
     ]
    }
   ],
   "source": [
    "z = np.dot(X_train,w) + b\n",
    "y_predict = sigmoid(z)\n",
    "y_predict = y_predict >=0.5\n",
    "print(y_predict)"
   ]
  },
  {
   "cell_type": "code",
   "execution_count": 56,
   "id": "c71b2322",
   "metadata": {},
   "outputs": [
    {
     "data": {
      "text/plain": [
       "True"
      ]
     },
     "execution_count": 56,
     "metadata": {},
     "output_type": "execute_result"
    }
   ],
   "source": [
    "x1 =np.array([74,34])\n",
    "y_predi = sigmoid(np.dot(x1,w)+b)>=0.5\n",
    "y_predi"
   ]
  },
  {
   "cell_type": "code",
   "execution_count": 59,
   "id": "9ba1414b",
   "metadata": {},
   "outputs": [
    {
     "data": {
      "text/plain": [
       "array([0., 0., 0., 1., 1.])"
      ]
     },
     "execution_count": 59,
     "metadata": {},
     "output_type": "execute_result"
    }
   ],
   "source": [
    "#logistic regression with scikit learn module\n",
    "\n",
    "logreg = linear_model.LogisticRegression()\n",
    "logreg.fit(X_train,y_train)\n",
    "y_predicted = logreg.predict(X_train)\n",
    "y_predicted"
   ]
  },
  {
   "cell_type": "code",
   "execution_count": 77,
   "id": "29eefbdb",
   "metadata": {},
   "outputs": [
    {
     "data": {
      "text/plain": [
       "array([1.])"
      ]
     },
     "execution_count": 77,
     "metadata": {},
     "output_type": "execute_result"
    }
   ],
   "source": [
    "x1 = np.array([[84,67]])\n",
    "logreg.predict(x1)"
   ]
  },
  {
   "cell_type": "code",
   "execution_count": 69,
   "id": "e21ecd2b",
   "metadata": {},
   "outputs": [
    {
     "data": {
      "text/plain": [
       "array([0.])"
      ]
     },
     "execution_count": 69,
     "metadata": {},
     "output_type": "execute_result"
    }
   ],
   "source": [
    "x2 = np.array([[34,67]])\n",
    "logreg.predict(x2)"
   ]
  },
  {
   "cell_type": "code",
   "execution_count": 75,
   "id": "d8742c39",
   "metadata": {},
   "outputs": [
    {
     "data": {
      "text/plain": [
       "array([1.])"
      ]
     },
     "execution_count": 75,
     "metadata": {},
     "output_type": "execute_result"
    }
   ],
   "source": [
    "x3 = np.array([[57,67]])\n",
    "logreg.predict(x3)"
   ]
  },
  {
   "cell_type": "code",
   "execution_count": null,
   "id": "c74d9885",
   "metadata": {},
   "outputs": [],
   "source": []
  }
 ],
 "metadata": {
  "kernelspec": {
   "display_name": "Python 3 (ipykernel)",
   "language": "python",
   "name": "python3"
  },
  "language_info": {
   "codemirror_mode": {
    "name": "ipython",
    "version": 3
   },
   "file_extension": ".py",
   "mimetype": "text/x-python",
   "name": "python",
   "nbconvert_exporter": "python",
   "pygments_lexer": "ipython3",
   "version": "3.11.5"
  }
 },
 "nbformat": 4,
 "nbformat_minor": 5
}
