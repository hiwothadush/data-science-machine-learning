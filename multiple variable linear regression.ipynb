{
 "cells": [
  {
   "cell_type": "code",
   "execution_count": 1,
   "id": "b37fd075",
   "metadata": {},
   "outputs": [],
   "source": [
    "import numpy as np\n",
    "import pandas as pd\n",
    "import matplotlib.pyplot as plt\n",
    "import math,copy"
   ]
  },
  {
   "cell_type": "code",
   "execution_count": 2,
   "id": "2cf430e8",
   "metadata": {},
   "outputs": [],
   "source": [
    "# multiple features to determine price of the house\n",
    "X_train = np.array([[2104, 5, 1, 45], [1416, 3, 2, 40], [852, 2, 1, 35]])\n",
    "y_train = np.array([460, 232, 178])"
   ]
  },
  {
   "cell_type": "code",
   "execution_count": 3,
   "id": "64a48a8c",
   "metadata": {},
   "outputs": [],
   "source": [
    "data = pd.DataFrame(X_train,columns = [\"sqft\",\"number of bedroom\",\"number of floors\",\"age of home\"])"
   ]
  },
  {
   "cell_type": "code",
   "execution_count": 4,
   "id": "a3b81c54",
   "metadata": {},
   "outputs": [],
   "source": [
    "data[\"price\"]= y_train"
   ]
  },
  {
   "cell_type": "code",
   "execution_count": 5,
   "id": "4feb4101",
   "metadata": {},
   "outputs": [
    {
     "data": {
      "text/html": [
       "<div>\n",
       "<style scoped>\n",
       "    .dataframe tbody tr th:only-of-type {\n",
       "        vertical-align: middle;\n",
       "    }\n",
       "\n",
       "    .dataframe tbody tr th {\n",
       "        vertical-align: top;\n",
       "    }\n",
       "\n",
       "    .dataframe thead th {\n",
       "        text-align: right;\n",
       "    }\n",
       "</style>\n",
       "<table border=\"1\" class=\"dataframe\">\n",
       "  <thead>\n",
       "    <tr style=\"text-align: right;\">\n",
       "      <th></th>\n",
       "      <th>sqft</th>\n",
       "      <th>number of bedroom</th>\n",
       "      <th>number of floors</th>\n",
       "      <th>age of home</th>\n",
       "      <th>price</th>\n",
       "    </tr>\n",
       "  </thead>\n",
       "  <tbody>\n",
       "    <tr>\n",
       "      <th>0</th>\n",
       "      <td>2104</td>\n",
       "      <td>5</td>\n",
       "      <td>1</td>\n",
       "      <td>45</td>\n",
       "      <td>460</td>\n",
       "    </tr>\n",
       "    <tr>\n",
       "      <th>1</th>\n",
       "      <td>1416</td>\n",
       "      <td>3</td>\n",
       "      <td>2</td>\n",
       "      <td>40</td>\n",
       "      <td>232</td>\n",
       "    </tr>\n",
       "    <tr>\n",
       "      <th>2</th>\n",
       "      <td>852</td>\n",
       "      <td>2</td>\n",
       "      <td>1</td>\n",
       "      <td>35</td>\n",
       "      <td>178</td>\n",
       "    </tr>\n",
       "  </tbody>\n",
       "</table>\n",
       "</div>"
      ],
      "text/plain": [
       "   sqft  number of bedroom  number of floors  age of home  price\n",
       "0  2104                  5                 1           45    460\n",
       "1  1416                  3                 2           40    232\n",
       "2   852                  2                 1           35    178"
      ]
     },
     "execution_count": 5,
     "metadata": {},
     "output_type": "execute_result"
    }
   ],
   "source": [
    "data"
   ]
  },
  {
   "cell_type": "code",
   "execution_count": 6,
   "id": "dcb8e77e",
   "metadata": {},
   "outputs": [],
   "source": [
    "#creating cost function for f(w,b) = x*w + b, and y.\n",
    "\n",
    "def compute_cost(x,y,w,b):\n",
    "    m = x.shape[0]\n",
    "    cost = 0\n",
    "    for i in range(m):\n",
    "        f_wb = np.dot(x[i],w) + b\n",
    "        cost = cost + (y[i] - f_wb)**2\n",
    "        \n",
    "    cost = (1/(2*m))*cost\n",
    "    return cost"
   ]
  },
  {
   "cell_type": "code",
   "execution_count": 7,
   "id": "6e1fbb9b",
   "metadata": {},
   "outputs": [],
   "source": [
    "#create a function which computes gradient to minimize w and b.\n",
    "def compute_gradient(x,y,w,b):\n",
    "    m,n =x.shape\n",
    "    dj_dw = np.zeros(n)\n",
    "    dj_db = 0\n",
    "    for i in range(m):\n",
    "        f_wb= (np.dot(x[i],w) + b)\n",
    "        for j in range(n):\n",
    "            dj_dw[j] = dj_dw[j] + (f_wb - y[i]) * x[i,j]\n",
    "        dj_db_i = f_wb -y[i]\n",
    "        dj_db += dj_db_i\n",
    "    dj_dw = dj_dw / m\n",
    "    dj_db = dj_db / m\n",
    "    return dj_dw,dj_db"
   ]
  },
  {
   "cell_type": "code",
   "execution_count": 8,
   "id": "e2b0afa0",
   "metadata": {},
   "outputs": [],
   "source": [
    "#create gradient descent funcion which find w and b to minimize cost(mean squared error)\n",
    "def gradient_descent(x,y,w_init,b_init,alpha,compute_cost,compute_gradient,num_iters):\n",
    "    j_history = []\n",
    "    b = b_init\n",
    "    w = w_init\n",
    "    \n",
    "    for i in range(num_iters):\n",
    "        dj_dw,dj_db = compute_gradient(x,y,w,b)\n",
    "        w = w - alpha * dj_dw\n",
    "        b = b - alpha * dj_db\n",
    "        #save cost j at each iteration\n",
    "        j_history.append(compute_cost(x,y,w,b))\n",
    "    \n",
    "    return w, b, j_history"
   ]
  },
  {
   "cell_type": "code",
   "execution_count": 9,
   "id": "3b51c540",
   "metadata": {},
   "outputs": [],
   "source": [
    "w = np.zeros(X_train.shape[1])\n",
    "b = 0.\n",
    "iters = 10\n",
    "alpha = 1e-7\n",
    "w_final,b_final,j_history = gradient_descent(X_train,y_train,w,b,alpha,compute_cost,compute_gradient,iters)"
   ]
  },
  {
   "cell_type": "code",
   "execution_count": 10,
   "id": "a8fa8da2",
   "metadata": {},
   "outputs": [
    {
     "data": {
      "text/plain": [
       "array([1.88957022e-01, 4.41422869e-04, 1.29814674e-04, 4.63682728e-03])"
      ]
     },
     "execution_count": 10,
     "metadata": {},
     "output_type": "execute_result"
    }
   ],
   "source": [
    "w_final"
   ]
  },
  {
   "cell_type": "code",
   "execution_count": 11,
   "id": "6a6446e6",
   "metadata": {},
   "outputs": [
    {
     "data": {
      "text/plain": [
       "0.00011058974720304363"
      ]
     },
     "execution_count": 11,
     "metadata": {},
     "output_type": "execute_result"
    }
   ],
   "source": [
    "b_final"
   ]
  },
  {
   "cell_type": "code",
   "execution_count": 12,
   "id": "ff4abf52",
   "metadata": {},
   "outputs": [
    {
     "data": {
      "text/plain": [
       "[<matplotlib.lines.Line2D at 0x1dce17120d0>]"
      ]
     },
     "execution_count": 12,
     "metadata": {},
     "output_type": "execute_result"
    },
    {
     "data": {
      "image/png": "[encoded data removed]",
      "text/plain": [
       "<Figure size 640x480 with 1 Axes>"
      ]
     },
     "metadata": {},
     "output_type": "display_data"
    }
   ],
   "source": [
    "plt.plot(range(10),j_history)"
   ]
  },
  {
   "cell_type": "code",
   "execution_count": 13,
   "id": "1eb2c604",
   "metadata": {},
   "outputs": [
    {
     "name": "stdout",
     "output_type": "stream",
     "text": [
      "the final value of w is: [1.88957022e-01 4.41422869e-04 1.29814674e-04 4.63682728e-03], and final value of b is: 0.000\n"
     ]
    }
   ],
   "source": [
    "print(f\"the final value of w is: {w_final}, and final value of b is: {b_final:0.3f}\")"
   ]
  },
  {
   "cell_type": "code",
   "execution_count": 14,
   "id": "7897f578",
   "metadata": {},
   "outputs": [],
   "source": [
    "y_predict = np.dot(X_train ,w_final) + b_final"
   ]
  },
  {
   "cell_type": "code",
   "execution_count": 15,
   "id": "366eaf04",
   "metadata": {
    "scrolled": true
   },
   "outputs": [
    {
     "name": "stdout",
     "output_type": "stream",
     "text": [
      "predicted value is: 397.7766795353992, target value is: 460\n",
      "predicted value is: 267.7503110680905, target value is: 232\n",
      "predicted value is: 161.15479515183347, target value is: 178\n"
     ]
    }
   ],
   "source": [
    "for i in range(X_train.shape[0]):\n",
    "    print(f\"predicted value is: {y_predict[i]}, target value is: {y_train[i]}\")"
   ]
  },
  {
   "cell_type": "code",
   "execution_count": 16,
   "id": "e582ffdf",
   "metadata": {},
   "outputs": [
    {
     "data": {
      "text/plain": [
       "Text(0, 0.5, 'price')"
      ]
     },
     "execution_count": 16,
     "metadata": {},
     "output_type": "execute_result"
    },
    {
     "data": {
      "image/png": "[encoded data removed]",
      "text/plain": [
       "<Figure size 640x480 with 1 Axes>"
      ]
     },
     "metadata": {},
     "output_type": "display_data"
    }
   ],
   "source": [
    "# plot each feature verses price to see which feacturs have the stongest influence\n",
    "plt.scatter(X_train[:,0],y_train)\n",
    "plt.xlabel(data.columns[0])\n",
    "plt.ylabel(\"price\")"
   ]
  },
  {
   "cell_type": "code",
   "execution_count": 17,
   "id": "c12b3b2b",
   "metadata": {},
   "outputs": [
    {
     "data": {
      "text/plain": [
       "Text(0, 0.5, 'price')"
      ]
     },
     "execution_count": 17,
     "metadata": {},
     "output_type": "execute_result"
    },
    {
     "data": {
      "image/png": "[encoded data removed]",
      "text/plain": [
       "<Figure size 640x480 with 1 Axes>"
      ]
     },
     "metadata": {},
     "output_type": "display_data"
    }
   ],
   "source": [
    "# plot each feature verses price to see which feacturs have the stongest influence\n",
    "plt.scatter(X_train[:,1],y_train)\n",
    "plt.xlabel(data.columns[1])\n",
    "plt.ylabel(\"price\")"
   ]
  },
  {
   "cell_type": "code",
   "execution_count": 18,
   "id": "8812ab8b",
   "metadata": {},
   "outputs": [
    {
     "data": {
      "text/plain": [
       "Text(0, 0.5, 'price')"
      ]
     },
     "execution_count": 18,
     "metadata": {},
     "output_type": "execute_result"
    },
    {
     "data": {
      "image/png": "[encoded data removed]",
      "text/plain": [
       "<Figure size 640x480 with 1 Axes>"
      ]
     },
     "metadata": {},
     "output_type": "display_data"
    }
   ],
   "source": [
    "# plot each feature verses price to see which feacturs have the stongest influence\n",
    "plt.scatter(X_train[:,2],y_train)\n",
    "plt.xlabel(data.columns[2])\n",
    "plt.ylabel(\"price\")"
   ]
  },
  {
   "cell_type": "code",
   "execution_count": 19,
   "id": "4b9f8e97",
   "metadata": {},
   "outputs": [
    {
     "data": {
      "text/plain": [
       "Text(0, 0.5, 'price')"
      ]
     },
     "execution_count": 19,
     "metadata": {},
     "output_type": "execute_result"
    },
    {
     "data": {
      "image/png": "[encoded data removed]",
      "text/plain": [
       "<Figure size 640x480 with 1 Axes>"
      ]
     },
     "metadata": {},
     "output_type": "display_data"
    }
   ],
   "source": [
    "# plot each feature verses price to see which feacturs have the stongest influence\n",
    "plt.scatter(X_train[:,3],y_train)\n",
    "plt.xlabel(data.columns[3])\n",
    "plt.ylabel(\"price\")"
   ]
  },
  {
   "cell_type": "code",
   "execution_count": 20,
   "id": "5bf6dd24",
   "metadata": {},
   "outputs": [],
   "source": [
    "#the predictions are not accurate so to improve the acurracy we need scale the sqft feature to have similar range"
   ]
  },
  {
   "cell_type": "code",
   "execution_count": 21,
   "id": "585919c8",
   "metadata": {},
   "outputs": [],
   "source": [
    "def zscore_normalize_features(X):\n",
    "    xhat = np.mean(X,axis = 0)\n",
    "    sigma = np.std(X,axis =0)\n",
    "    X_norm = (X - xhat) /sigma\n",
    "    return X_norm,xhat,sigma"
   ]
  },
  {
   "cell_type": "code",
   "execution_count": 22,
   "id": "697bac82",
   "metadata": {},
   "outputs": [],
   "source": [
    "X_normalized,xhat,sigma = zscore_normalize_features(X_train)"
   ]
  },
  {
   "cell_type": "code",
   "execution_count": 23,
   "id": "73bc8fb8",
   "metadata": {},
   "outputs": [
    {
     "data": {
      "text/plain": [
       "array([1.45733333e+03, 3.33333333e+00, 1.33333333e+00, 4.00000000e+01])"
      ]
     },
     "execution_count": 23,
     "metadata": {},
     "output_type": "execute_result"
    }
   ],
   "source": [
    "xhat"
   ]
  },
  {
   "cell_type": "code",
   "execution_count": 24,
   "id": "7864ca26",
   "metadata": {},
   "outputs": [
    {
     "data": {
      "text/plain": [
       "array([5.11961804e+02, 1.24721913e+00, 4.71404521e-01, 4.08248290e+00])"
      ]
     },
     "execution_count": 24,
     "metadata": {},
     "output_type": "execute_result"
    }
   ],
   "source": [
    "sigma"
   ]
  },
  {
   "cell_type": "code",
   "execution_count": 25,
   "id": "410e1c35",
   "metadata": {},
   "outputs": [],
   "source": [
    "iters= 1000\n",
    "alpha = 1.0e-1 # learning rate\n",
    "w_norm,b_norm,j_history = gradient_descent(X_normalized,y_train,w,b,alpha,compute_cost,compute_gradient,iters)"
   ]
  },
  {
   "cell_type": "code",
   "execution_count": 26,
   "id": "948ac6ba",
   "metadata": {},
   "outputs": [
    {
     "name": "stdout",
     "output_type": "stream",
     "text": [
      "w_norm is: [ 38.05161505  41.54327451 -30.98894656  36.34177447]\n",
      "b_norm is :289.9999999999998\n"
     ]
    }
   ],
   "source": [
    "print(f\"w_norm is: {w_norm}\")\n",
    "print(f\"b_norm is :{b_norm}\")"
   ]
  },
  {
   "cell_type": "code",
   "execution_count": 27,
   "id": "0dddcb81",
   "metadata": {},
   "outputs": [],
   "source": [
    "m = X_normalized.shape[0]\n",
    "yp = np.zeros(m)\n",
    "for i in range(m):\n",
    "    yp[i] = np.dot(X_normalized[i],w_norm) + b_norm "
   ]
  },
  {
   "cell_type": "code",
   "execution_count": 28,
   "id": "f45e4b22",
   "metadata": {},
   "outputs": [
    {
     "data": {
      "text/plain": [
       "array([460., 232., 178.])"
      ]
     },
     "execution_count": 28,
     "metadata": {},
     "output_type": "execute_result"
    }
   ],
   "source": [
    "yp"
   ]
  },
  {
   "cell_type": "code",
   "execution_count": 29,
   "id": "0c89ff16",
   "metadata": {},
   "outputs": [
    {
     "name": "stdout",
     "output_type": "stream",
     "text": [
      "predicted value is: 459.9999999999998, target value is: 460\n",
      "predicted value is: 231.99999999999977, target value is: 232\n",
      "predicted value is: 177.99999999999972, target value is: 178\n"
     ]
    }
   ],
   "source": [
    "for i in range(X_normalized.shape[0]):\n",
    "    print(f\"predicted value is: {yp[i]}, target value is: {y_train[i]}\")"
   ]
  },
  {
   "cell_type": "code",
   "execution_count": 30,
   "id": "a590716b",
   "metadata": {},
   "outputs": [],
   "source": [
    "x_house = np.array([1200,3,1,40])\n",
    "x_house_norm = (x_house-xhat)/sigma\n",
    "predicted_price = np.dot(x_house_norm,w_norm) + b_norm"
   ]
  },
  {
   "cell_type": "code",
   "execution_count": 31,
   "id": "f59999ad",
   "metadata": {},
   "outputs": [
    {
     "name": "stdout",
     "output_type": "stream",
     "text": [
      "the predicted price for the house with 1200 sqft, 3 bedrooms, 1 floor, 40 years old is :281.6832599933722\n"
     ]
    }
   ],
   "source": [
    "print(f\"the predicted price for the house with 1200 sqft, 3 bedrooms, 1 floor, 40 years old is :{predicted_price}\" )"
   ]
  },
  {
   "cell_type": "code",
   "execution_count": null,
   "id": "3c4ba72e",
   "metadata": {},
   "outputs": [],
   "source": []
  }
 ],
 "metadata": {
  "kernelspec": {
   "display_name": "Python 3 (ipykernel)",
   "language": "python",
   "name": "python3"
  },
  "language_info": {
   "codemirror_mode": {
    "name": "ipython",
    "version": 3
   },
   "file_extension": ".py",
   "mimetype": "text/x-python",
   "name": "python",
   "nbconvert_exporter": "python",
   "pygments_lexer": "ipython3",
   "version": "3.11.5"
  }
 },
 "nbformat": 4,
 "nbformat_minor": 5
}
